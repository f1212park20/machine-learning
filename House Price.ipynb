{
 "cells": [
  {
   "cell_type": "code",
   "execution_count": 1,
   "id": "dd018c73",
   "metadata": {},
   "outputs": [],
   "source": [
    "import pandas as pd\n",
    "import numpy as np\n",
    "from scipy.stats import norm\n",
    "%matplotlib inline\n",
    "import matplotlib.pyplot as plt\n",
    "import seaborn as sns\n",
    "import warnings; warnings.simplefilter('ignore')\n"
   ]
  },
  {
   "cell_type": "code",
   "execution_count": 2,
   "id": "4c724554",
   "metadata": {},
   "outputs": [],
   "source": [
    "# 데이터를 우선 가져와야합니다.\n",
    "train = pd.read_csv(\"C:\\\\kaggle\\\\house\\\\train.csv\")\n",
    "test= pd.read_csv(\"C:\\\\kaggle\\\\house\\\\test.csv\")\n",
    "submission=pd.read_csv('C:\\\\kaggle\\\\house\\\\sample_submission.csv')"
   ]
  },
  {
   "cell_type": "code",
   "execution_count": 3,
   "id": "ea218bb0",
   "metadata": {},
   "outputs": [
    {
     "data": {
      "text/html": [
       "<div>\n",
       "<style scoped>\n",
       "    .dataframe tbody tr th:only-of-type {\n",
       "        vertical-align: middle;\n",
       "    }\n",
       "\n",
       "    .dataframe tbody tr th {\n",
       "        vertical-align: top;\n",
       "    }\n",
       "\n",
       "    .dataframe thead th {\n",
       "        text-align: right;\n",
       "    }\n",
       "</style>\n",
       "<table border=\"1\" class=\"dataframe\">\n",
       "  <thead>\n",
       "    <tr style=\"text-align: right;\">\n",
       "      <th></th>\n",
       "      <th>Id</th>\n",
       "      <th>MSSubClass</th>\n",
       "      <th>MSZoning</th>\n",
       "      <th>LotFrontage</th>\n",
       "      <th>LotArea</th>\n",
       "      <th>Street</th>\n",
       "      <th>Alley</th>\n",
       "      <th>LotShape</th>\n",
       "      <th>LandContour</th>\n",
       "      <th>Utilities</th>\n",
       "      <th>...</th>\n",
       "      <th>PoolArea</th>\n",
       "      <th>PoolQC</th>\n",
       "      <th>Fence</th>\n",
       "      <th>MiscFeature</th>\n",
       "      <th>MiscVal</th>\n",
       "      <th>MoSold</th>\n",
       "      <th>YrSold</th>\n",
       "      <th>SaleType</th>\n",
       "      <th>SaleCondition</th>\n",
       "      <th>SalePrice</th>\n",
       "    </tr>\n",
       "  </thead>\n",
       "  <tbody>\n",
       "    <tr>\n",
       "      <th>0</th>\n",
       "      <td>1</td>\n",
       "      <td>60</td>\n",
       "      <td>RL</td>\n",
       "      <td>65.0</td>\n",
       "      <td>8450</td>\n",
       "      <td>Pave</td>\n",
       "      <td>NaN</td>\n",
       "      <td>Reg</td>\n",
       "      <td>Lvl</td>\n",
       "      <td>AllPub</td>\n",
       "      <td>...</td>\n",
       "      <td>0</td>\n",
       "      <td>NaN</td>\n",
       "      <td>NaN</td>\n",
       "      <td>NaN</td>\n",
       "      <td>0</td>\n",
       "      <td>2</td>\n",
       "      <td>2008</td>\n",
       "      <td>WD</td>\n",
       "      <td>Normal</td>\n",
       "      <td>208500</td>\n",
       "    </tr>\n",
       "    <tr>\n",
       "      <th>1</th>\n",
       "      <td>2</td>\n",
       "      <td>20</td>\n",
       "      <td>RL</td>\n",
       "      <td>80.0</td>\n",
       "      <td>9600</td>\n",
       "      <td>Pave</td>\n",
       "      <td>NaN</td>\n",
       "      <td>Reg</td>\n",
       "      <td>Lvl</td>\n",
       "      <td>AllPub</td>\n",
       "      <td>...</td>\n",
       "      <td>0</td>\n",
       "      <td>NaN</td>\n",
       "      <td>NaN</td>\n",
       "      <td>NaN</td>\n",
       "      <td>0</td>\n",
       "      <td>5</td>\n",
       "      <td>2007</td>\n",
       "      <td>WD</td>\n",
       "      <td>Normal</td>\n",
       "      <td>181500</td>\n",
       "    </tr>\n",
       "    <tr>\n",
       "      <th>2</th>\n",
       "      <td>3</td>\n",
       "      <td>60</td>\n",
       "      <td>RL</td>\n",
       "      <td>68.0</td>\n",
       "      <td>11250</td>\n",
       "      <td>Pave</td>\n",
       "      <td>NaN</td>\n",
       "      <td>IR1</td>\n",
       "      <td>Lvl</td>\n",
       "      <td>AllPub</td>\n",
       "      <td>...</td>\n",
       "      <td>0</td>\n",
       "      <td>NaN</td>\n",
       "      <td>NaN</td>\n",
       "      <td>NaN</td>\n",
       "      <td>0</td>\n",
       "      <td>9</td>\n",
       "      <td>2008</td>\n",
       "      <td>WD</td>\n",
       "      <td>Normal</td>\n",
       "      <td>223500</td>\n",
       "    </tr>\n",
       "    <tr>\n",
       "      <th>3</th>\n",
       "      <td>4</td>\n",
       "      <td>70</td>\n",
       "      <td>RL</td>\n",
       "      <td>60.0</td>\n",
       "      <td>9550</td>\n",
       "      <td>Pave</td>\n",
       "      <td>NaN</td>\n",
       "      <td>IR1</td>\n",
       "      <td>Lvl</td>\n",
       "      <td>AllPub</td>\n",
       "      <td>...</td>\n",
       "      <td>0</td>\n",
       "      <td>NaN</td>\n",
       "      <td>NaN</td>\n",
       "      <td>NaN</td>\n",
       "      <td>0</td>\n",
       "      <td>2</td>\n",
       "      <td>2006</td>\n",
       "      <td>WD</td>\n",
       "      <td>Abnorml</td>\n",
       "      <td>140000</td>\n",
       "    </tr>\n",
       "    <tr>\n",
       "      <th>4</th>\n",
       "      <td>5</td>\n",
       "      <td>60</td>\n",
       "      <td>RL</td>\n",
       "      <td>84.0</td>\n",
       "      <td>14260</td>\n",
       "      <td>Pave</td>\n",
       "      <td>NaN</td>\n",
       "      <td>IR1</td>\n",
       "      <td>Lvl</td>\n",
       "      <td>AllPub</td>\n",
       "      <td>...</td>\n",
       "      <td>0</td>\n",
       "      <td>NaN</td>\n",
       "      <td>NaN</td>\n",
       "      <td>NaN</td>\n",
       "      <td>0</td>\n",
       "      <td>12</td>\n",
       "      <td>2008</td>\n",
       "      <td>WD</td>\n",
       "      <td>Normal</td>\n",
       "      <td>250000</td>\n",
       "    </tr>\n",
       "  </tbody>\n",
       "</table>\n",
       "<p>5 rows × 81 columns</p>\n",
       "</div>"
      ],
      "text/plain": [
       "   Id  MSSubClass MSZoning  LotFrontage  LotArea Street Alley LotShape  \\\n",
       "0   1          60       RL         65.0     8450   Pave   NaN      Reg   \n",
       "1   2          20       RL         80.0     9600   Pave   NaN      Reg   \n",
       "2   3          60       RL         68.0    11250   Pave   NaN      IR1   \n",
       "3   4          70       RL         60.0     9550   Pave   NaN      IR1   \n",
       "4   5          60       RL         84.0    14260   Pave   NaN      IR1   \n",
       "\n",
       "  LandContour Utilities  ... PoolArea PoolQC Fence MiscFeature MiscVal MoSold  \\\n",
       "0         Lvl    AllPub  ...        0    NaN   NaN         NaN       0      2   \n",
       "1         Lvl    AllPub  ...        0    NaN   NaN         NaN       0      5   \n",
       "2         Lvl    AllPub  ...        0    NaN   NaN         NaN       0      9   \n",
       "3         Lvl    AllPub  ...        0    NaN   NaN         NaN       0      2   \n",
       "4         Lvl    AllPub  ...        0    NaN   NaN         NaN       0     12   \n",
       "\n",
       "  YrSold  SaleType  SaleCondition  SalePrice  \n",
       "0   2008        WD         Normal     208500  \n",
       "1   2007        WD         Normal     181500  \n",
       "2   2008        WD         Normal     223500  \n",
       "3   2006        WD        Abnorml     140000  \n",
       "4   2008        WD         Normal     250000  \n",
       "\n",
       "[5 rows x 81 columns]"
      ]
     },
     "execution_count": 3,
     "metadata": {},
     "output_type": "execute_result"
    }
   ],
   "source": [
    "train.head()"
   ]
  },
  {
   "cell_type": "code",
   "execution_count": 4,
   "id": "25068cad",
   "metadata": {},
   "outputs": [
    {
     "data": {
      "text/plain": [
       "(1460, 81)"
      ]
     },
     "execution_count": 4,
     "metadata": {},
     "output_type": "execute_result"
    }
   ],
   "source": [
    "train.shape"
   ]
  },
  {
   "cell_type": "code",
   "execution_count": 5,
   "id": "2ef589a6",
   "metadata": {},
   "outputs": [
    {
     "data": {
      "text/plain": [
       "(1459, 80)"
      ]
     },
     "execution_count": 5,
     "metadata": {},
     "output_type": "execute_result"
    }
   ],
   "source": [
    "test.shape"
   ]
  },
  {
   "cell_type": "code",
   "execution_count": 6,
   "id": "11d1c166",
   "metadata": {},
   "outputs": [
    {
     "data": {
      "text/plain": [
       "Index(['Id', 'MSSubClass', 'MSZoning', 'LotFrontage', 'LotArea', 'Street',\n",
       "       'Alley', 'LotShape', 'LandContour', 'Utilities', 'LotConfig',\n",
       "       'LandSlope', 'Neighborhood', 'Condition1', 'Condition2', 'BldgType',\n",
       "       'HouseStyle', 'OverallQual', 'OverallCond', 'YearBuilt', 'YearRemodAdd',\n",
       "       'RoofStyle', 'RoofMatl', 'Exterior1st', 'Exterior2nd', 'MasVnrType',\n",
       "       'MasVnrArea', 'ExterQual', 'ExterCond', 'Foundation', 'BsmtQual',\n",
       "       'BsmtCond', 'BsmtExposure', 'BsmtFinType1', 'BsmtFinSF1',\n",
       "       'BsmtFinType2', 'BsmtFinSF2', 'BsmtUnfSF', 'TotalBsmtSF', 'Heating',\n",
       "       'HeatingQC', 'CentralAir', 'Electrical', '1stFlrSF', '2ndFlrSF',\n",
       "       'LowQualFinSF', 'GrLivArea', 'BsmtFullBath', 'BsmtHalfBath', 'FullBath',\n",
       "       'HalfBath', 'BedroomAbvGr', 'KitchenAbvGr', 'KitchenQual',\n",
       "       'TotRmsAbvGrd', 'Functional', 'Fireplaces', 'FireplaceQu', 'GarageType',\n",
       "       'GarageYrBlt', 'GarageFinish', 'GarageCars', 'GarageArea', 'GarageQual',\n",
       "       'GarageCond', 'PavedDrive', 'WoodDeckSF', 'OpenPorchSF',\n",
       "       'EnclosedPorch', '3SsnPorch', 'ScreenPorch', 'PoolArea', 'PoolQC',\n",
       "       'Fence', 'MiscFeature', 'MiscVal', 'MoSold', 'YrSold', 'SaleType',\n",
       "       'SaleCondition', 'SalePrice'],\n",
       "      dtype='object')"
      ]
     },
     "execution_count": 6,
     "metadata": {},
     "output_type": "execute_result"
    }
   ],
   "source": [
    "train.columns"
   ]
  },
  {
   "cell_type": "code",
   "execution_count": 7,
   "id": "b479f800",
   "metadata": {},
   "outputs": [
    {
     "data": {
      "image/png": "[encoded data removed]",
      "text/plain": [
       "<Figure size 432x288 with 1 Axes>"
      ]
     },
     "metadata": {
      "needs_background": "light"
     },
     "output_type": "display_data"
    }
   ],
   "source": [
    "# 이상치 제거 (Outlier remove)\n",
    "fig, ax = plt.subplots()\n",
    "ax.scatter(x = train['GrLivArea'], y = train['SalePrice'])\n",
    "plt.ylabel('SalePrice')\n",
    "plt.xlabel('GrLivArea')\n",
    "plt.show()"
   ]
  },
  {
   "cell_type": "code",
   "execution_count": 8,
   "id": "38139277",
   "metadata": {},
   "outputs": [],
   "source": [
    "# 이상치를 제거\n",
    "train = train[train['GrLivArea']<4000]\n",
    "train = train[train['GarageArea']<1200]\n",
    "train = train[train['1stFlrSF']<2700]\n",
    "train = train[train['2ndFlrSF']<1700]\n",
    "train = train[train['TotalBsmtSF']<3000]\n"
   ]
  },
  {
   "cell_type": "code",
   "execution_count": 9,
   "id": "39fb5d5d",
   "metadata": {},
   "outputs": [
    {
     "data": {
      "image/png": "[encoded data removed]",
      "text/plain": [
       "<Figure size 936x720 with 2 Axes>"
      ]
     },
     "metadata": {
      "needs_background": "light"
     },
     "output_type": "display_data"
    }
   ],
   "source": [
    "# 상관관계 분석\n",
    "# 상관계수\n",
    "corrmat = train.corr()\n",
    "corr_columns = corrmat.index[abs(corrmat[\"SalePrice\"])>=0.4] # 상관계수 0.4 이상만 포함\n",
    "corr_columns\n",
    " \n",
    "# 히트맵\n",
    "plt.figure(figsize=(13,10))\n",
    "heatmap = sns.heatmap(train[corr_columns].corr(),annot=True,cmap=\"RdYlGn\")"
   ]
  },
  {
   "cell_type": "code",
   "execution_count": 12,
   "id": "b70cd7a4",
   "metadata": {},
   "outputs": [],
   "source": [
    "df_train = train.drop(['SalePrice'],axis=1)\n",
    "df = pd.concat((df_train,test))\n"
   ]
  },
  {
   "cell_type": "code",
   "execution_count": 13,
   "id": "276d4d3b",
   "metadata": {},
   "outputs": [
    {
     "data": {
      "text/plain": [
       "<AxesSubplot:xlabel='SalePrice', ylabel='Density'>"
      ]
     },
     "execution_count": 13,
     "metadata": {},
     "output_type": "execute_result"
    },
    {
     "data": {
      "image/png": "[encoded data removed]",
      "text/plain": [
       "<Figure size 432x288 with 1 Axes>"
      ]
     },
     "metadata": {
      "needs_background": "light"
     },
     "output_type": "display_data"
    }
   ],
   "source": [
    "sns.distplot(train['SalePrice'])\n"
   ]
  },
  {
   "cell_type": "code",
   "execution_count": 14,
   "id": "dcc3731a",
   "metadata": {},
   "outputs": [
    {
     "data": {
      "text/plain": [
       "<AxesSubplot:xlabel='SalePrice', ylabel='Density'>"
      ]
     },
     "execution_count": 14,
     "metadata": {},
     "output_type": "execute_result"
    },
    {
     "data": {
      "image/png": "[encoded data removed]",
      "text/plain": [
       "<Figure size 432x288 with 1 Axes>"
      ]
     },
     "metadata": {
      "needs_background": "light"
     },
     "output_type": "display_data"
    }
   ],
   "source": [
    "train['SalePrice'] = np.log1p(train[\"SalePrice\"])\n",
    "sns.distplot(train['SalePrice'])"
   ]
  },
  {
   "cell_type": "code",
   "execution_count": 15,
   "id": "f49d18df",
   "metadata": {},
   "outputs": [],
   "source": [
    "price = train['SalePrice']\n"
   ]
  },
  {
   "cell_type": "code",
   "execution_count": 16,
   "id": "b3ff31cd",
   "metadata": {},
   "outputs": [
    {
     "data": {
      "text/plain": [
       "PoolQC          99.724613\n",
       "MiscFeature     96.419966\n",
       "Alley           93.184165\n",
       "Fence           80.378657\n",
       "FireplaceQu     48.846816\n",
       "LotFrontage     16.626506\n",
       "GarageFinish     5.473322\n",
       "GarageQual       5.473322\n",
       "GarageCond       5.473322\n",
       "GarageYrBlt      5.473322\n",
       "GarageType       5.404475\n",
       "BsmtExposure     2.822719\n",
       "BsmtCond         2.822719\n",
       "BsmtQual         2.788296\n",
       "BsmtFinType1     2.719449\n",
       "BsmtFinType2     2.719449\n",
       "MasVnrType       0.826162\n",
       "MasVnrArea       0.791738\n",
       "MSZoning         0.137694\n",
       "BsmtFullBath     0.068847\n",
       "BsmtHalfBath     0.068847\n",
       "Functional       0.068847\n",
       "Utilities        0.068847\n",
       "GarageArea       0.034423\n",
       "GarageCars       0.034423\n",
       "Electrical       0.034423\n",
       "KitchenQual      0.034423\n",
       "TotalBsmtSF      0.034423\n",
       "BsmtUnfSF        0.034423\n",
       "BsmtFinSF2       0.034423\n",
       "BsmtFinSF1       0.034423\n",
       "Exterior2nd      0.034423\n",
       "Exterior1st      0.034423\n",
       "SaleType         0.034423\n",
       "dtype: float64"
      ]
     },
     "execution_count": 16,
     "metadata": {},
     "output_type": "execute_result"
    }
   ],
   "source": [
    "# 결측치(null) 확인 및 처리\n",
    "null = (df.isna().sum() / len(df) * 100) #백분율로 계산\n",
    " \n",
    "null = null.drop(null[null == 0].index).sort_values(ascending=False)\n",
    "null"
   ]
  },
  {
   "cell_type": "code",
   "execution_count": 17,
   "id": "38e6f5b8",
   "metadata": {},
   "outputs": [],
   "source": [
    "# PoolQC : 수영장 품질, nan = 존재X (99%)\n",
    "df['PoolQC'] = df['PoolQC'].fillna('None')\n",
    " \n",
    "# MiscFeature : 기타기능, nan = 존재X (96%)\n",
    "df['MiscFeature'] = df['MiscFeature'].fillna('None')\n",
    " \n",
    "# Alley : 골목 접근 유형, nan = 골목 접근 금지\n",
    "df['Alley'] = df['Alley'].fillna('None')\n",
    " \n",
    "# Fence : 울타리 여부, nan = 울타리 없음\n",
    "df['Fence'] = df['Fence'].fillna('None')\n",
    " \n",
    "# FireplaceQu : 벽난로 품질, nan = 벽난로 없음\n",
    "df['FireplaceQu'] = df['FireplaceQu'].fillna('None')\n",
    " \n",
    "# LotFrontage : 부동산과 연결된 거리의 직선 피트, nan = 연결된 거리 없음\n",
    "df['LotFrontage'] = df['LotFrontage'].fillna(0)\n",
    " \n",
    "# GarageFinish : 차고 마감재 품질, nan = 차고 없음\n",
    "df['GarageFinish'] = df['GarageFinish'].fillna('None')\n",
    " \n",
    "# GarageYrBlt : 차고 제작연도, nan = 차고 없음\n",
    "df['GarageYrBlt'] = df['GarageYrBlt'].fillna(0)\n",
    " \n",
    "# GarageQual : 차고 품질, nan = 차고 없음\n",
    "df['GarageQual'] = df['GarageQual'].fillna('None')\n",
    " \n",
    "# GarageCond : 차고 상태, nan = 차고 없음\n",
    "df['GarageCond'] = df['GarageCond'].fillna('None')\n",
    " \n",
    "# GarageType : 차고 유형, nan = 차고 없음\n",
    "df['GarageType'] = df['GarageType'].fillna('None')\n",
    " \n",
    "# 지하실 관련 카테고리형 데이터, nan = 지하실 없음\n",
    "# BsmtExposure, BsmtCond, BsmtQual, BsmtFinType1, BsmtFinType2\n",
    "for data in ['BsmtExposure', 'BsmtCond', 'BsmtQual', 'BsmtFinType1', 'BsmtFinType2']:\n",
    "    df[data] = df[data].fillna('None')\n",
    "    \n",
    "# 지하실 관련 수치형 데이터, nan = 지하실 없음\n",
    "# BsmtFullBath, BsmtHalfBath, BsmtFinSF1, BsmtFinSF2, BsmtUnfSF, TotalBsmtSF\n",
    "for data in ['BsmtFullBath', 'BsmtHalfBath', 'BsmtFinSF1', 'BsmtFinSF2', 'BsmtUnfSF', 'TotalBsmtSF']:\n",
    "    df[data] = df[data].fillna(0)\n",
    "    \n",
    "# MasVnrType : 석조베니어 형태, nan = 베니어 없음\n",
    "df['MasVnrType'] = df['MasVnrType'].fillna('None')\n",
    " \n",
    "# MasVnrArea : 석조베니어 공간, nan = 베니어 없음\n",
    "df['MasVnrArea'] = df['MasVnrArea'].fillna(0)\n",
    " \n",
    "# MSZoning : RL이 제일 흔한 값이므로 결측치 RL로 변경\n",
    "df['MSZoning'] = df['MSZoning'].fillna('RL')\n",
    " \n",
    "# Utilities : AllPub이 가장 흔한 값이므로 결측치 AllPub으로 변경\n",
    "df['Utilities'] = df['Utilities'].fillna('AllPub')\n",
    " \n",
    "# Functional : 홈 기능, 가장 일반적인 Typ로 변경\n",
    "df[\"Functional\"] = df[\"Functional\"].fillna(\"Typ\")\n",
    " \n",
    "# Exterior2nd :집 외부 덮개 (소재가 2개 이상인 경우), nan = 소재 1개만 사용\n",
    "df['Exterior2nd'] = df['Exterior2nd'].fillna('None')\n",
    "df['Exterior1st'] = df['Exterior1st'].fillna('VinylSd')\n",
    " \n",
    "# Electrical : 전기시스템, 'SBrkr'이 제일 흔한 값이므로 변경\n",
    "df['Electrical'] = df['Electrical'].fillna('SBrkr')\n",
    " \n",
    "# KitchenQual : 주방 품질, 'TA'가 가장 흔한 값이므로 변경\n",
    "df['KitchenQual'] = df['KitchenQual'].fillna('TA')\n",
    " \n",
    "# GarageCars, GarageArea : 차고의 차 개수와 차고넓이, nan = 차고없음\n",
    "df['GarageCars'] = df['GarageCars'].fillna(0)\n",
    "df['GarageArea'] = df['GarageArea'].fillna(0)\n",
    " \n",
    "# SaleType : 판매 유형, 가장 흔한 값인 'WD'로 변경\n",
    "df['SaleType'] = df['SaleType'].fillna('WD')"
   ]
  },
  {
   "cell_type": "code",
   "execution_count": 18,
   "id": "131d24bc",
   "metadata": {},
   "outputs": [],
   "source": [
    "# PoolQC : 수영장 품질, nan = 존재X (99%)\n",
    "df['PoolQC'] = df['PoolQC'].fillna('None')\n",
    " \n",
    "# MiscFeature : 기타기능, nan = 존재X (96%)\n",
    "df['MiscFeature'] = df['MiscFeature'].fillna('None')\n",
    " \n",
    "# Alley : 골목 접근 유형, nan = 골목 접근 금지\n",
    "df['Alley'] = df['Alley'].fillna('None')\n",
    " \n",
    "# Fence : 울타리 여부, nan = 울타리 없음\n",
    "df['Fence'] = df['Fence'].fillna('None')\n",
    " \n",
    "# FireplaceQu : 벽난로 품질, nan = 벽난로 없음\n",
    "df['FireplaceQu'] = df['FireplaceQu'].fillna('None')\n",
    " \n",
    "# LotFrontage : 부동산과 연결된 거리의 직선 피트, nan = 연결된 거리 없음\n",
    "df['LotFrontage'] = df['LotFrontage'].fillna(0)\n",
    " \n",
    "# GarageFinish : 차고 마감재 품질, nan = 차고 없음\n",
    "df['GarageFinish'] = df['GarageFinish'].fillna('None')\n",
    " \n",
    "# GarageYrBlt : 차고 제작연도, nan = 차고 없음\n",
    "df['GarageYrBlt'] = df['GarageYrBlt'].fillna(0)\n",
    " \n",
    "# GarageQual : 차고 품질, nan = 차고 없음\n",
    "df['GarageQual'] = df['GarageQual'].fillna('None')\n",
    " \n",
    "# GarageCond : 차고 상태, nan = 차고 없음\n",
    "df['GarageCond'] = df['GarageCond'].fillna('None')\n",
    " \n",
    "# GarageType : 차고 유형, nan = 차고 없음\n",
    "df['GarageType'] = df['GarageType'].fillna('None')\n",
    " \n",
    "# 지하실 관련 카테고리형 데이터, nan = 지하실 없음\n",
    "# BsmtExposure, BsmtCond, BsmtQual, BsmtFinType1, BsmtFinType2\n",
    "for data in ['BsmtExposure', 'BsmtCond', 'BsmtQual', 'BsmtFinType1', 'BsmtFinType2']:\n",
    "    df[data] = df[data].fillna('None')\n",
    "    \n",
    "# 지하실 관련 수치형 데이터, nan = 지하실 없음\n",
    "# BsmtFullBath, BsmtHalfBath, BsmtFinSF1, BsmtFinSF2, BsmtUnfSF, TotalBsmtSF\n",
    "for data in ['BsmtFullBath', 'BsmtHalfBath', 'BsmtFinSF1', 'BsmtFinSF2', 'BsmtUnfSF', 'TotalBsmtSF']:\n",
    "    df[data] = df[data].fillna(0)\n",
    "    \n",
    "# MasVnrType : 석조베니어 형태, nan = 베니어 없음\n",
    "df['MasVnrType'] = df['MasVnrType'].fillna('None')\n",
    " \n",
    "# MasVnrArea : 석조베니어 공간, nan = 베니어 없음\n",
    "df['MasVnrArea'] = df['MasVnrArea'].fillna(0)\n",
    " \n",
    "# MSZoning : RL이 제일 흔한 값이므로 결측치 RL로 변경\n",
    "df['MSZoning'] = df['MSZoning'].fillna('RL')\n",
    " \n",
    "# Utilities : AllPub이 가장 흔한 값이므로 결측치 AllPub으로 변경\n",
    "df['Utilities'] = df['Utilities'].fillna('AllPub')\n",
    " \n",
    "# Functional : 홈 기능, 가장 일반적인 Typ로 변경\n",
    "df[\"Functional\"] = df[\"Functional\"].fillna(\"Typ\")\n",
    " \n",
    "# Exterior2nd :집 외부 덮개 (소재가 2개 이상인 경우), nan = 소재 1개만 사용\n",
    "df['Exterior2nd'] = df['Exterior2nd'].fillna('None')\n",
    "df['Exterior1st'] = df['Exterior1st'].fillna('VinylSd')\n",
    " \n",
    "# Electrical : 전기시스템, 'SBrkr'이 제일 흔한 값이므로 변경\n",
    "df['Electrical'] = df['Electrical'].fillna('SBrkr')\n",
    " \n",
    "# KitchenQual : 주방 품질, 'TA'가 가장 흔한 값이므로 변경\n",
    "df['KitchenQual'] = df['KitchenQual'].fillna('TA')\n",
    " \n",
    "# GarageCars, GarageArea : 차고의 차 개수와 차고넓이, nan = 차고없음\n",
    "df['GarageCars'] = df['GarageCars'].fillna(0)\n",
    "df['GarageArea'] = df['GarageArea'].fillna(0)\n",
    " \n",
    "# SaleType : 판매 유형, 가장 흔한 값인 'WD'로 변경\n",
    "df['SaleType'] = df['SaleType'].fillna('WD')"
   ]
  },
  {
   "cell_type": "code",
   "execution_count": 19,
   "id": "6d6093e4",
   "metadata": {},
   "outputs": [],
   "source": [
    "# 판매월과 판매연도가 수치형으로 되어있어 카테고리형(str)로 타입 변경\n",
    "df['YrSold'] = df['YrSold'].astype(str)\n",
    "df['MoSold'] = df['MoSold'].astype(str)\n",
    " \n",
    "# 주거유형이 수치형으로 되어있어 카테고리형으로 타입변경\n",
    "df['MSSubClass'] = df['MSSubClass'].astype(str)\n",
    "# 수치형데이터와 범주형데이터 분리\n",
    "obj_df = df.select_dtypes(include='object')\n",
    "num_df = df.select_dtypes(exclude='object')\n"
   ]
  },
  {
   "cell_type": "markdown",
   "id": "23f53090",
   "metadata": {},
   "source": [
    "범주형 데이터 처리 (라벨인코딩)\n",
    "1. LabelEncoding\n",
    "2. One-hot Encoding"
   ]
  },
  {
   "cell_type": "code",
   "execution_count": 20,
   "id": "e1ff3cf4",
   "metadata": {},
   "outputs": [],
   "source": [
    "# 등급이 나누어지거나, 순서가 없는 경우 모델에 잘못 반영될 수 있기 때문에 등급, 여부 칼럼만 포함\n",
    " \n",
    "label_obj_list = ['Street', 'Alley','ExterQual', 'ExterCond','BsmtCond','HeatingQC', 'CentralAir',\n",
    "       'KitchenQual', 'FireplaceQu','GarageFinish', 'GarageQual', 'GarageCond', 'PavedDrive', 'PoolQC',\n",
    "       'Fence', 'MoSold', 'YrSold','SaleCondition']\n",
    "       \n",
    "# 카테고리형 칼럼을 라벨인코딩 (수치화, 문자를 0부터 시작하는 정수형 숫자로 바꾸어줌)\n",
    "from sklearn.preprocessing import LabelEncoder\n",
    " \n",
    "# encoder = LabelEncoder()\n",
    " \n",
    "for obj in label_obj_list:\n",
    "    encoder = LabelEncoder()\n",
    "    encoder.fit(list(df[obj].values))\n",
    "    df[obj] = encoder.transform(list(df[obj].values))"
   ]
  },
  {
   "cell_type": "code",
   "execution_count": 21,
   "id": "3f60cf98",
   "metadata": {},
   "outputs": [
    {
     "name": "stdout",
     "output_type": "stream",
     "text": [
      "MiscVal          21.904223\n",
      "PoolArea         18.669449\n",
      "LotArea          13.245250\n",
      "LowQualFinSF     12.059175\n",
      "3SsnPorch        11.348142\n",
      "KitchenAbvGr      4.290310\n",
      "BsmtFinSF2        4.166631\n",
      "EnclosedPorch     4.017907\n",
      "ScreenPorch       3.946659\n",
      "BsmtHalfBath      3.934869\n",
      "MasVnrArea        2.551011\n",
      "OpenPorchSF       2.528255\n",
      "WoodDeckSF        1.856938\n",
      "1stFlrSF          1.212917\n",
      "KitchenQual      -1.454760\n",
      "ExterQual        -1.802948\n",
      "Fence            -1.988541\n",
      "ExterCond        -2.499174\n",
      "SaleCondition    -2.797852\n",
      "BsmtCond         -2.853376\n",
      "PavedDrive       -2.969670\n",
      "GarageQual       -3.064592\n",
      "CentralAir       -3.448736\n",
      "GarageCond       -3.585278\n",
      "GarageYrBlt      -3.895128\n",
      "Street          -16.158425\n",
      "PoolQC          -22.944518\n",
      "dtype: float64\n"
     ]
    }
   ],
   "source": [
    "# 수치형 데이터 처리 (왜도)\n",
    "num_features = df.dtypes[df.dtypes != \"object\"].index\n",
    " \n",
    "from scipy.stats import skew \n",
    "skewness = df[num_features].apply(lambda x: skew(x.dropna())).sort_values(ascending=False)\n",
    " \n",
    "high_skewness = skewness[abs(skewness) > 1] # 왜도 값이 1 이상인 칼럼만 채택\n",
    "skew_feats = high_skewness.index\n",
    "print(high_skewness)"
   ]
  },
  {
   "cell_type": "code",
   "execution_count": 22,
   "id": "0e501a1f",
   "metadata": {},
   "outputs": [],
   "source": [
    "# 파생 변수\n",
    "df['TotalFlrSF'] = (df['1stFlrSF'] + df['2ndFlrSF'] + df['TotalBsmtSF']) # 부동산의 총 제곱피트\n",
    " \n",
    "df['TotalBath'] = (df['FullBath'] + df['HalfBath'] + df['BsmtFullBath'] + df['BsmtHalfBath']) # 화장실\n",
    " \n",
    "df['RemodorNot'] = np.where(df['YearBuilt'] == df['YearRemodAdd'], 0, 1) # 리모델링 여부\n",
    " \n",
    "df['PoolorNot'] = np.where(df['PoolArea'] > 0, 1, 0) # 수영장 여부\n",
    " \n",
    "df['GarageorNot'] = np.where(df['GarageArea'] > 0, 1, 0) # 차고 여부\n",
    " \n",
    "df['BsmtorNot'] = np.where(df['TotalBsmtSF'] > 0, 1, 0) # 지하실 여부\n",
    " \n",
    "df['FireplaceorNot'] = np.where(df['Fireplaces'] > 0, 1, 0) # 벽난로 여부\n",
    " "
   ]
  },
  {
   "cell_type": "code",
   "execution_count": 23,
   "id": "87328b07",
   "metadata": {},
   "outputs": [
    {
     "data": {
      "text/plain": [
       "(2905, 271)"
      ]
     },
     "execution_count": 23,
     "metadata": {},
     "output_type": "execute_result"
    }
   ],
   "source": [
    "# One-hot Encoding\n",
    "df = pd.get_dummies(df)\n",
    " \n",
    "df.shape"
   ]
  },
  {
   "cell_type": "code",
   "execution_count": 24,
   "id": "b8f4c11e",
   "metadata": {},
   "outputs": [],
   "source": [
    "train_df = df[:train.shape[0]]\n",
    "test_df = df[train.shape[0]:]\n",
    "train_df = pd.concat([train_df, price], axis=1, sort=False)\n",
    "\n",
    "# 학습 과정에서 필요없는 변수 drop\n",
    "train_df = train_df.drop(['SalePrice', 'Id'], axis=1) # log변환을 한 price가 있기 때문\n",
    "test_df = test_df.drop(['Id'], axis=1)"
   ]
  },
  {
   "cell_type": "code",
   "execution_count": 30,
   "id": "851d9503",
   "metadata": {},
   "outputs": [],
   "source": [
    "from sklearn.model_selection import KFold, cross_val_score, GridSearchCV\n",
    "from sklearn.metrics import mean_squared_error\n",
    "from sklearn.pipeline import make_pipeline\n",
    "from sklearn.ensemble import RandomForestRegressor, GradientBoostingRegressor\n",
    "from xgboost import XGBRegressor\n",
    "from lightgbm import LGBMRegressor\n",
    "from sklearn.linear_model import ElasticNet, Lasso, LinearRegression"
   ]
  },
  {
   "cell_type": "code",
   "execution_count": 31,
   "id": "060bc220",
   "metadata": {},
   "outputs": [],
   "source": [
    "# RobustScaler\n",
    "# 중앙값과 IQR(사분면도) 이용하여 아웃라이어의 영향을 최소화하도록 한다.\n",
    "from sklearn.preprocessing import RobustScaler\n",
    "\n",
    "rbst_scaler=RobustScaler()\n",
    "X_rbst=rbst_scaler.fit_transform(train_df)\n",
    "test_rbst=rbst_scaler.transform(test_df)"
   ]
  },
  {
   "cell_type": "code",
   "execution_count": 32,
   "id": "38760c40",
   "metadata": {},
   "outputs": [],
   "source": [
    "# KFold 검증\n",
    "from sklearn.model_selection import GridSearchCV, cross_val_score, StratifiedKFold\n",
    "\n",
    "kfold = KFold(n_splits=4)\n",
    "\n",
    "random_state = 1\n",
    "reg = []\n",
    "\n",
    "reg.append(Lasso(random_state = random_state))\n",
    "reg.append(ElasticNet(random_state = random_state))\n",
    "reg.append(RandomForestRegressor(random_state=random_state))\n",
    "reg.append(GradientBoostingRegressor(random_state=random_state))\n",
    "reg.append(XGBRegressor(silent=True,random_state=random_state))\n",
    "reg.append(LGBMRegressor(verbose_eval=False,random_state = random_state))\n",
    "\n",
    "# print(reg)\n",
    "\n",
    "reg_results = []\n",
    "\n",
    "for regre in reg :\n",
    "    reg_results.append(np.mean(np.sqrt(-cross_val_score(regre, X_rbst, y = price,scoring = 'neg_mean_squared_error',\n",
    "                                       cv = kfold, n_jobs=-4))))"
   ]
  },
  {
   "cell_type": "code",
   "execution_count": 33,
   "id": "297527ed",
   "metadata": {},
   "outputs": [
    {
     "data": {
      "text/html": [
       "<div>\n",
       "<style scoped>\n",
       "    .dataframe tbody tr th:only-of-type {\n",
       "        vertical-align: middle;\n",
       "    }\n",
       "\n",
       "    .dataframe tbody tr th {\n",
       "        vertical-align: top;\n",
       "    }\n",
       "\n",
       "    .dataframe thead th {\n",
       "        text-align: right;\n",
       "    }\n",
       "</style>\n",
       "<table border=\"1\" class=\"dataframe\">\n",
       "  <thead>\n",
       "    <tr style=\"text-align: right;\">\n",
       "      <th></th>\n",
       "      <th>CrossValMeans</th>\n",
       "      <th>CrossValerrors</th>\n",
       "    </tr>\n",
       "  </thead>\n",
       "  <tbody>\n",
       "    <tr>\n",
       "      <th>0</th>\n",
       "      <td>0.375504</td>\n",
       "      <td>0.0</td>\n",
       "    </tr>\n",
       "    <tr>\n",
       "      <th>1</th>\n",
       "      <td>0.366059</td>\n",
       "      <td>0.0</td>\n",
       "    </tr>\n",
       "    <tr>\n",
       "      <th>2</th>\n",
       "      <td>0.135299</td>\n",
       "      <td>0.0</td>\n",
       "    </tr>\n",
       "    <tr>\n",
       "      <th>3</th>\n",
       "      <td>0.121208</td>\n",
       "      <td>0.0</td>\n",
       "    </tr>\n",
       "    <tr>\n",
       "      <th>4</th>\n",
       "      <td>0.134062</td>\n",
       "      <td>0.0</td>\n",
       "    </tr>\n",
       "    <tr>\n",
       "      <th>5</th>\n",
       "      <td>0.125406</td>\n",
       "      <td>0.0</td>\n",
       "    </tr>\n",
       "  </tbody>\n",
       "</table>\n",
       "</div>"
      ],
      "text/plain": [
       "   CrossValMeans  CrossValerrors\n",
       "0       0.375504             0.0\n",
       "1       0.366059             0.0\n",
       "2       0.135299             0.0\n",
       "3       0.121208             0.0\n",
       "4       0.134062             0.0\n",
       "5       0.125406             0.0"
      ]
     },
     "execution_count": 33,
     "metadata": {},
     "output_type": "execute_result"
    }
   ],
   "source": [
    "reg_means = []\n",
    "reg_std = []\n",
    "for reg_result in reg_results:\n",
    "    reg_means.append(reg_result.mean())\n",
    "    reg_std.append(reg_result.std())\n",
    "reg_re = pd.DataFrame({\"CrossValMeans\":reg_means,\"CrossValerrors\": reg_std})\n",
    "reg_re"
   ]
  },
  {
   "cell_type": "code",
   "execution_count": 34,
   "id": "c414b695",
   "metadata": {},
   "outputs": [
    {
     "name": "stdout",
     "output_type": "stream",
     "text": [
      "Fitting 4 folds for each of 72 candidates, totalling 288 fits\n"
     ]
    },
    {
     "data": {
      "text/plain": [
       "-0.016934418188049978"
      ]
     },
     "execution_count": 34,
     "metadata": {},
     "output_type": "execute_result"
    }
   ],
   "source": [
    "# GridSearchCV\n",
    "# Gradient boosting 파라미터 튜닝\n",
    "GBC = GradientBoostingRegressor()\n",
    "gb_param_grid = {'n_estimators' : [100,200,300],\n",
    "              'learning_rate': [0.1, 0.05, 0.01],\n",
    "              'max_depth': [4, 8],\n",
    "              'min_samples_leaf': [100,150],\n",
    "              'max_features': [0.3, 0.1] \n",
    "              }\n",
    "gsGBC = GridSearchCV(GBC,param_grid = gb_param_grid, cv=kfold, scoring=\"neg_mean_squared_error\", n_jobs= 4, verbose = 1)\n",
    "gsGBC.fit(X_rbst,price)\n",
    "GBC_best = gsGBC.best_estimator_\n",
    "\n",
    "# 최고 점수\n",
    "gsGBC.best_score_"
   ]
  },
  {
   "cell_type": "code",
   "execution_count": 36,
   "id": "4b9b08b8",
   "metadata": {},
   "outputs": [
    {
     "data": {
      "text/plain": [
       "GradientBoostingRegressor(max_depth=4, max_features=0.3, min_samples_leaf=100,\n",
       "                          n_estimators=300)"
      ]
     },
     "execution_count": 36,
     "metadata": {},
     "output_type": "execute_result"
    }
   ],
   "source": [
    "GBC_best"
   ]
  },
  {
   "cell_type": "code",
   "execution_count": 37,
   "id": "18e1a443",
   "metadata": {},
   "outputs": [
    {
     "name": "stdout",
     "output_type": "stream",
     "text": [
      "Fitting 4 folds for each of 432 candidates, totalling 1728 fits\n"
     ]
    },
    {
     "data": {
      "text/plain": [
       "-0.018823386531360158"
      ]
     },
     "execution_count": 37,
     "metadata": {},
     "output_type": "execute_result"
    }
   ],
   "source": [
    "#LGBMClassifier 파라미터 튜닝\n",
    "LGB = LGBMRegressor()\n",
    "lgb_param_grid = {\n",
    "    'num_leaves' : [1,5,10],\n",
    "    'learning_rate': [1,0.1,0.01,0.001],\n",
    "    'n_estimators': [50, 100, 200, 500, 1000,5000], \n",
    "    'max_depth': [15,20,25],\n",
    "    'num_leaves': [50, 100, 200],\n",
    "    'min_split_gain': [0.3, 0.4]\n",
    "}\n",
    "gsLGB = GridSearchCV(LGB,param_grid = lgb_param_grid, cv=kfold, scoring=\"neg_mean_squared_error\", n_jobs= 4, verbose = 1)\n",
    "gsLGB.fit(X_rbst,price)\n",
    "LGB_best = gsLGB.best_estimator_\n",
    "\n",
    "# 최고 점수\n",
    "gsLGB.best_score_"
   ]
  },
  {
   "cell_type": "code",
   "execution_count": 38,
   "id": "355072fd",
   "metadata": {},
   "outputs": [
    {
     "data": {
      "text/plain": [
       "LGBMRegressor(max_depth=15, min_split_gain=0.3, n_estimators=50, num_leaves=50)"
      ]
     },
     "execution_count": 38,
     "metadata": {},
     "output_type": "execute_result"
    }
   ],
   "source": [
    "LGB_best"
   ]
  },
  {
   "cell_type": "code",
   "execution_count": 39,
   "id": "d3ed6d1c",
   "metadata": {},
   "outputs": [
    {
     "name": "stdout",
     "output_type": "stream",
     "text": [
      "Fitting 4 folds for each of 108 candidates, totalling 432 fits\n"
     ]
    },
    {
     "data": {
      "text/plain": [
       "-0.020292426696384883"
      ]
     },
     "execution_count": 39,
     "metadata": {},
     "output_type": "execute_result"
    }
   ],
   "source": [
    "#RandomForest 파라미터 튜닝\n",
    "RF = RandomForestRegressor()\n",
    "rf_param_grid = {\n",
    "        'n_estimators' : [1,10, 100],\n",
    "           'max_depth' : [6, 8, 10, 12],\n",
    "           'min_samples_leaf' : [8, 12, 18],\n",
    "           'min_samples_split' : [8, 16, 20]\n",
    "}\n",
    "gsRF = GridSearchCV(RF,param_grid = rf_param_grid, cv=kfold, scoring=\"neg_mean_squared_error\", n_jobs= 4, verbose = 1)\n",
    "gsRF.fit(X_rbst,price)\n",
    "RF_best = gsRF.best_estimator_\n",
    "\n",
    "# 최고 점수\n",
    "gsRF.best_score_\n"
   ]
  },
  {
   "cell_type": "code",
   "execution_count": 40,
   "id": "1af0c8bd",
   "metadata": {},
   "outputs": [
    {
     "data": {
      "text/plain": [
       "RandomForestRegressor(max_depth=12, min_samples_leaf=8, min_samples_split=16)"
      ]
     },
     "execution_count": 40,
     "metadata": {},
     "output_type": "execute_result"
    }
   ],
   "source": [
    "RF_best"
   ]
  },
  {
   "cell_type": "code",
   "execution_count": 41,
   "id": "7e0ab6f7",
   "metadata": {},
   "outputs": [],
   "source": [
    "# Prediction (예측)\n",
    "# Voting\n",
    "from sklearn.ensemble import VotingRegressor\n",
    "\n",
    "votingC = VotingRegressor(estimators=[('LGB', LGB_best), ('GBC',GBC_best), ('RF', RF_best)], n_jobs=4)\n",
    "votingC = votingC.fit(X_rbst, price)"
   ]
  },
  {
   "cell_type": "code",
   "execution_count": 42,
   "id": "437cfceb",
   "metadata": {},
   "outputs": [],
   "source": [
    "# test 데이터에 대해 예측\n",
    "test_SalePrice = pd.Series(votingC.predict(test_rbst), name=\"SalePrice\")"
   ]
  },
  {
   "cell_type": "code",
   "execution_count": 43,
   "id": "41a48d30",
   "metadata": {},
   "outputs": [],
   "source": [
    "submission = pd.DataFrame({\n",
    "    \"Id\" :test['Id'],\n",
    "    \"SalePrice\": np.expm1(test_SalePrice)\n",
    "})\n",
    "\n",
    "\n",
    "submission.to_csv('voting.csv', index=False)"
   ]
  },
  {
   "cell_type": "code",
   "execution_count": 49,
   "id": "e6a70b46",
   "metadata": {},
   "outputs": [
    {
     "name": "stdout",
     "output_type": "stream",
     "text": [
      "Requirement already satisfied: scikit-learn in c:\\anaconda\\lib\\site-packages (0.24.2)\n",
      "Collecting scikit-learn\n",
      "Note: you may need to restart the kernel to use updated packages.\n"
     ]
    },
    {
     "name": "stderr",
     "output_type": "stream",
     "text": [
      "ERROR: Could not install packages due to an OSError: [WinError 5] 액세스가 거부되었습니다: 'C:\\\\anaconda\\\\Lib\\\\site-packages\\\\~cipy\\\\cluster\\\\_hierarchy.cp39-win_amd64.pyd'\n",
      "Consider using the `--user` option or check the permissions.\n",
      "\n"
     ]
    },
    {
     "name": "stdout",
     "output_type": "stream",
     "text": [
      "  Downloading scikit_learn-1.0.2-cp39-cp39-win_amd64.whl (7.2 MB)\n",
      "Requirement already satisfied: scipy in c:\\anaconda\\lib\\site-packages (1.7.1)\n",
      "Collecting scipy\n",
      "  Downloading scipy-1.7.3-cp39-cp39-win_amd64.whl (34.3 MB)\n",
      "Requirement already satisfied: matplotlib in c:\\anaconda\\lib\\site-packages (3.4.3)\n",
      "Collecting matplotlib\n",
      "  Downloading matplotlib-3.5.1-cp39-cp39-win_amd64.whl (7.2 MB)\n",
      "Requirement already satisfied: threadpoolctl>=2.0.0 in c:\\anaconda\\lib\\site-packages (from scikit-learn) (2.2.0)\n",
      "Requirement already satisfied: joblib>=0.11 in c:\\anaconda\\lib\\site-packages (from scikit-learn) (1.1.0)\n",
      "Requirement already satisfied: numpy>=1.14.6 in c:\\anaconda\\lib\\site-packages (from scikit-learn) (1.20.3)\n",
      "Requirement already satisfied: kiwisolver>=1.0.1 in c:\\anaconda\\lib\\site-packages (from matplotlib) (1.3.1)\n",
      "Requirement already satisfied: fonttools>=4.22.0 in c:\\anaconda\\lib\\site-packages (from matplotlib) (4.25.0)\n",
      "Requirement already satisfied: pillow>=6.2.0 in c:\\anaconda\\lib\\site-packages (from matplotlib) (8.4.0)\n",
      "Requirement already satisfied: pyparsing>=2.2.1 in c:\\anaconda\\lib\\site-packages (from matplotlib) (3.0.4)\n",
      "Requirement already satisfied: packaging>=20.0 in c:\\anaconda\\lib\\site-packages (from matplotlib) (21.0)\n",
      "Requirement already satisfied: python-dateutil>=2.7 in c:\\anaconda\\lib\\site-packages (from matplotlib) (2.8.2)\n",
      "Requirement already satisfied: cycler>=0.10 in c:\\anaconda\\lib\\site-packages (from matplotlib) (0.10.0)\n",
      "Requirement already satisfied: six in c:\\anaconda\\lib\\site-packages (from cycler>=0.10->matplotlib) (1.16.0)\n",
      "Installing collected packages: scipy, scikit-learn, matplotlib\n",
      "  Attempting uninstall: scipy\n",
      "    Found existing installation: scipy 1.7.1\n",
      "    Uninstalling scipy-1.7.1:\n",
      "      Successfully uninstalled scipy-1.7.1\n"
     ]
    }
   ],
   "source": []
  },
  {
   "cell_type": "code",
   "execution_count": null,
   "id": "0bdae494",
   "metadata": {},
   "outputs": [],
   "source": []
  }
 ],
 "metadata": {
  "kernelspec": {
   "display_name": "Python 3 (ipykernel)",
   "language": "python",
   "name": "python3"
  },
  "language_info": {
   "codemirror_mode": {
    "name": "ipython",
    "version": 3
   },
   "file_extension": ".py",
   "mimetype": "text/x-python",
   "name": "python",
   "nbconvert_exporter": "python",
   "pygments_lexer": "ipython3",
   "version": "3.9.7"
  }
 },
 "nbformat": 4,
 "nbformat_minor": 5
}
